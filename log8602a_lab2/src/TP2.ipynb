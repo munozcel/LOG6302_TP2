{
 "cells": [
  {
   "cell_type": "markdown",
   "metadata": {},
   "source": [
    "# TP2\n",
    "## Analyse d’applications et Cyber-sécurité\n",
    "\n",
    "##### Groupe 2: Adrien Chevallereau 2226047, Celina Ghoraieb-Munoz 2309332\n"
   ]
  },
  {
   "cell_type": "code",
   "execution_count": 24,
   "metadata": {},
   "outputs": [],
   "source": [
    "import json\n",
    "\n",
    "def ast_reader_json(f_path):\n",
    "    with open(f_path, 'r') as f:\n",
    "        ast_json = json.load(f)\n",
    "    return ast_json\n",
    "\n",
    "f_path = '/Users/munozcel/Desktop/LOG6302_TP2/log8602a_lab2/part_1/if/if.php.ast.json'\n",
    "ast_data = ast_reader_json(f_path)\n"
   ]
  },
  {
   "cell_type": "code",
   "execution_count": 45,
   "metadata": {},
   "outputs": [
    {
     "ename": "TypeError",
     "evalue": "list indices must be integers or slices, not str",
     "output_type": "error",
     "traceback": [
      "\u001b[0;31m---------------------------------------------------------------------------\u001b[0m",
      "\u001b[0;31mTypeError\u001b[0m                                 Traceback (most recent call last)",
      "\u001b[1;32m/Users/munozcel/Desktop/LOG6302_TP2/log8602a_lab2/src/TP2.ipynb Cell 3\u001b[0m line \u001b[0;36m5\n\u001b[1;32m     <a href='vscode-notebook-cell:/Users/munozcel/Desktop/LOG6302_TP2/log8602a_lab2/src/TP2.ipynb#W4sZmlsZQ%3D%3D?line=50'>51</a>\u001b[0m ast_data \u001b[39m=\u001b[39m ast_reader_json(f_path)\n\u001b[1;32m     <a href='vscode-notebook-cell:/Users/munozcel/Desktop/LOG6302_TP2/log8602a_lab2/src/TP2.ipynb#W4sZmlsZQ%3D%3D?line=52'>53</a>\u001b[0m \u001b[39m# Construct the CFG from the AST data\u001b[39;00m\n\u001b[0;32m---> <a href='vscode-notebook-cell:/Users/munozcel/Desktop/LOG6302_TP2/log8602a_lab2/src/TP2.ipynb#W4sZmlsZQ%3D%3D?line=53'>54</a>\u001b[0m nodes \u001b[39m=\u001b[39m construct_cfg_from_ast(ast_data)\n\u001b[1;32m     <a href='vscode-notebook-cell:/Users/munozcel/Desktop/LOG6302_TP2/log8602a_lab2/src/TP2.ipynb#W4sZmlsZQ%3D%3D?line=55'>56</a>\u001b[0m \u001b[39m# Visualize the CFG\u001b[39;00m\n\u001b[1;32m     <a href='vscode-notebook-cell:/Users/munozcel/Desktop/LOG6302_TP2/log8602a_lab2/src/TP2.ipynb#W4sZmlsZQ%3D%3D?line=56'>57</a>\u001b[0m visualize_cfg(nodes)\n",
      "\u001b[1;32m/Users/munozcel/Desktop/LOG6302_TP2/log8602a_lab2/src/TP2.ipynb Cell 3\u001b[0m line \u001b[0;36m3\n\u001b[1;32m     <a href='vscode-notebook-cell:/Users/munozcel/Desktop/LOG6302_TP2/log8602a_lab2/src/TP2.ipynb#W4sZmlsZQ%3D%3D?line=28'>29</a>\u001b[0m \u001b[39m# Process the AST data and create the CFG nodes and edges\u001b[39;00m\n\u001b[1;32m     <a href='vscode-notebook-cell:/Users/munozcel/Desktop/LOG6302_TP2/log8602a_lab2/src/TP2.ipynb#W4sZmlsZQ%3D%3D?line=29'>30</a>\u001b[0m \u001b[39mfor\u001b[39;00m node \u001b[39min\u001b[39;00m ast_data:\n\u001b[0;32m---> <a href='vscode-notebook-cell:/Users/munozcel/Desktop/LOG6302_TP2/log8602a_lab2/src/TP2.ipynb#W4sZmlsZQ%3D%3D?line=30'>31</a>\u001b[0m     cfg_node \u001b[39m=\u001b[39m create_node(\u001b[39mf\u001b[39m\u001b[39m'\u001b[39m\u001b[39mnode_\u001b[39m\u001b[39m{\u001b[39;00mnode[\u001b[39m\"\u001b[39;49m\u001b[39mid\u001b[39;49m\u001b[39m\"\u001b[39;49m]\u001b[39m}\u001b[39;00m\u001b[39m'\u001b[39m, node[\u001b[39m'\u001b[39m\u001b[39mtype\u001b[39m\u001b[39m'\u001b[39m])\n\u001b[1;32m     <a href='vscode-notebook-cell:/Users/munozcel/Desktop/LOG6302_TP2/log8602a_lab2/src/TP2.ipynb#W4sZmlsZQ%3D%3D?line=31'>32</a>\u001b[0m     nodes[cfg_node[\u001b[39m'\u001b[39m\u001b[39mid\u001b[39m\u001b[39m'\u001b[39m]] \u001b[39m=\u001b[39m cfg_node\n\u001b[1;32m     <a href='vscode-notebook-cell:/Users/munozcel/Desktop/LOG6302_TP2/log8602a_lab2/src/TP2.ipynb#W4sZmlsZQ%3D%3D?line=32'>33</a>\u001b[0m     add_edge(prev_node, cfg_node)\n",
      "\u001b[0;31mTypeError\u001b[0m: list indices must be integers or slices, not str"
     ]
    }
   ],
   "source": [
    "def create_node(node_id, label):\n",
    "    return {'id': node_id, 'label': label, 'edges': []}\n",
    "\n",
    "def add_edge(node_from, node_to):\n",
    "    node_from['edges'].append(node_to['id'])\n",
    "\n"
   ]
  }
 ],
 "metadata": {
  "kernelspec": {
   "display_name": "env",
   "language": "python",
   "name": "python3"
  },
  "language_info": {
   "codemirror_mode": {
    "name": "ipython",
    "version": 3
   },
   "file_extension": ".py",
   "mimetype": "text/x-python",
   "name": "python",
   "nbconvert_exporter": "python",
   "pygments_lexer": "ipython3",
   "version": "3.11.6"
  }
 },
 "nbformat": 4,
 "nbformat_minor": 2
}
